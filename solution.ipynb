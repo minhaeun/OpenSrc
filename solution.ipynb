{
 "cells": [
  {
   "cell_type": "code",
   "execution_count": 4,
   "id": "56b79509",
   "metadata": {},
   "outputs": [
    {
     "name": "stdout",
     "output_type": "stream",
     "text": [
      "(1, 2)\n",
      "(3, 4)\n",
      "(1, 2, 1, 2)\n"
     ]
    },
    {
     "ename": "AttributeError",
     "evalue": "'NoneType' object has no attribute 'show'",
     "output_type": "error",
     "traceback": [
      "\u001b[0;31m---------------------------------------------------------------------------\u001b[0m",
      "\u001b[0;31mAttributeError\u001b[0m                            Traceback (most recent call last)",
      "\u001b[0;32m<ipython-input-4-12ef299673cf>\u001b[0m in \u001b[0;36m<module>\u001b[0;34m\u001b[0m\n\u001b[1;32m     24\u001b[0m \u001b[0;34m\u001b[0m\u001b[0m\n\u001b[1;32m     25\u001b[0m \u001b[0ma\u001b[0m \u001b[0;34m=\u001b[0m \u001b[0ma\u001b[0m \u001b[0;34m+\u001b[0m \u001b[0mb\u001b[0m\u001b[0;34m\u001b[0m\u001b[0;34m\u001b[0m\u001b[0m\n\u001b[0;32m---> 26\u001b[0;31m \u001b[0ma\u001b[0m\u001b[0;34m.\u001b[0m\u001b[0mshow\u001b[0m\u001b[0;34m(\u001b[0m\u001b[0;34m)\u001b[0m\u001b[0;34m\u001b[0m\u001b[0;34m\u001b[0m\u001b[0m\n\u001b[0m",
      "\u001b[0;31mAttributeError\u001b[0m: 'NoneType' object has no attribute 'show'"
     ]
    }
   ],
   "source": [
    "class Point:\n",
    "    num1 = 0\n",
    "    num2 = 0\n",
    "    t1 = ()\n",
    "\n",
    "    def __init__(self, n1, n2):\n",
    "        self.num1 = n1\n",
    "        self.num2 = n2\n",
    "        self.t1 = (n1, n2)\n",
    "\n",
    "    def __add__(self, other):\n",
    "        print(self.t1 + self.t1)\n",
    "        \n",
    "\n",
    "    def show(self):\n",
    "        print(self.t1)\n",
    "\n",
    "\n",
    "a = Point(1, 2)\n",
    "a.show()\n",
    "\n",
    "b = Point(3, 4)\n",
    "b.show()\n",
    "\n",
    "a = a + b\n",
    "a.show()"
   ]
  },
  {
   "cell_type": "code",
   "execution_count": 2,
   "id": "f44ad230",
   "metadata": {},
   "outputs": [
    {
     "name": "stdout",
     "output_type": "stream",
     "text": [
      "Max Week =  2021-05-11\n"
     ]
    }
   ],
   "source": [
    "import csv\n",
    "\n",
    "f = open('./seoul.csv', 'r', encoding='cp949')\n",
    "data = csv.reader(f)\n",
    "header = next(data)\n",
    "firstData = next(data)\n",
    "\n",
    "high = float(firstData[4])\n",
    "low = float(firstData[3])\n",
    "gap = high - low\n",
    "for row in data:\n",
    "    if(high < float(row[4])):\n",
    "        high = float(row[4])\n",
    "        highDate = row[0]\n",
    "    if(low > float(row[3])):\n",
    "        low = float(row[3])\n",
    "        lowDate = row[0]\n",
    "    if(gap < float(row[4]) - float(row[3])):\n",
    "        gap = float(row[4]) - float(row[3])\n",
    "        gapDate = row[0]\n",
    "f.close()\n",
    "print(\"Max Week = \", gapDate)\n"
   ]
  },
  {
   "cell_type": "code",
   "execution_count": null,
   "id": "de5fba27",
   "metadata": {},
   "outputs": [],
   "source": []
  }
 ],
 "metadata": {
  "kernelspec": {
   "display_name": "Python 3",
   "language": "python",
   "name": "python3"
  },
  "language_info": {
   "codemirror_mode": {
    "name": "ipython",
    "version": 3
   },
   "file_extension": ".py",
   "mimetype": "text/x-python",
   "name": "python",
   "nbconvert_exporter": "python",
   "pygments_lexer": "ipython3",
   "version": "3.8.1"
  }
 },
 "nbformat": 4,
 "nbformat_minor": 5
}
