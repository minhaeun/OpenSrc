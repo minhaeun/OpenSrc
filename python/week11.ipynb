{
 "cells": [
  {
   "cell_type": "code",
   "execution_count": 27,
   "id": "80348d93",
   "metadata": {},
   "outputs": [
    {
     "name": "stdout",
     "output_type": "stream",
     "text": [
      "cp file1 file2\n"
     ]
    }
   ],
   "source": [
    "# 실습 6\n",
    "\n",
    "command, file1, file2 = input().split()\n",
    "if command == 'cp':\n",
    "    f1 = open(file1+ \".txt\", 'r')\n",
    "    data = f1.read()\n",
    "    f2 = open(file2 + \".txt\" , 'w')\n",
    "    f2.write(data)\n",
    "f1.close()\n",
    "f2.close()"
   ]
  },
  {
   "cell_type": "code",
   "execution_count": 28,
   "id": "9ef29d0f",
   "metadata": {},
   "outputs": [
    {
     "name": "stdout",
     "output_type": "stream",
     "text": [
      "wc file1\n",
      "라인 수 :  1\n",
      "단어 수 :  2\n"
     ]
    }
   ],
   "source": [
    "#실습 7\n",
    "\n",
    "command, file1 = input().split()\n",
    "line_num = 0\n",
    "word_num = 0\n",
    "if command == \"wc\":\n",
    "    f = open(file1 + \".txt\" , 'r')\n",
    "    for line in f:\n",
    "        line_num += 1\n",
    "        word_num += len(line.split())\n",
    "\n",
    "print(\"라인 수 : \", line_num)\n",
    "print(\"단어 수 : \", word_num)\n",
    "f.close()"
   ]
  },
  {
   "cell_type": "code",
   "execution_count": 37,
   "id": "08f45cd9",
   "metadata": {},
   "outputs": [
    {
     "name": "stdout",
     "output_type": "stream",
     "text": [
      "1 + 2 = 3 입니다. \n",
      "5 - 1 = 4 입니다. \n",
      "2 * 3 = 6 입니다. \n",
      "6 / 2 = 3 입니다. \n"
     ]
    }
   ],
   "source": [
    "# 실습8\n",
    "# -*- coding: cp949 -*-\n",
    "class Calc:\n",
    "    def sum(self, a, b):\n",
    "        result = a + b\n",
    "        print(\"{0:d} + {1:d} = {2:d} 입니다. \".format(a, b, result))\n",
    "    def sub(self, a, b):\n",
    "        result = a - b\n",
    "        print(\"{0:d} - {1:d} = {2:d} 입니다. \".format(a, b, result))\n",
    "    def multi(self, a, b):\n",
    "        result = a * b\n",
    "        print(\"{0:d} * {1:d} = {2:d} 입니다. \".format(a, b, result))\n",
    "    def divi(self, a, b):\n",
    "        result = a / b\n",
    "        print(\"{0:d} / {1:d} = {2:d} 입니다. \".format(a, b, int(result)))\n",
    "\n",
    "cal = Calc()\n",
    "cal.sum(1,2)\n",
    "cal.sub(5,1)\n",
    "cal.multi(2,3)\n",
    "cal.divi(6,2)\n",
    "        "
   ]
  },
  {
   "cell_type": "code",
   "execution_count": 1,
   "id": "9d1a95c0",
   "metadata": {},
   "outputs": [
    {
     "name": "stdout",
     "output_type": "stream",
     "text": [
      "1 + 2 - 3 * 4 + 5\n",
      "1+2-3*4+5=-4\n"
     ]
    }
   ],
   "source": [
    "#실습9\n",
    "class Stack(list):\n",
    "    push = list.append\n",
    "\n",
    "    def isEmpty(self):\n",
    "        if not self:\n",
    "            return True\n",
    "        else:\n",
    "            return False\n",
    "\n",
    "    def peekTop(self):\n",
    "        return self[-1]\n",
    "\n",
    "\n",
    "def calc():\n",
    "    num2 = int(stack_num.pop())\n",
    "    num1 = int(stack_num.pop())\n",
    "    op = stack_op.pop()\n",
    "    if op == '+':\n",
    "        stack_num.push(num1 + num2)\n",
    "        if not stack_op.isEmpty():\n",
    "            calc()\n",
    "        else:\n",
    "            stack_op.push(element)\n",
    "    elif op == '-':\n",
    "        stack_num.push(num1 - num2)\n",
    "        if not stack_op.isEmpty():\n",
    "            calc()\n",
    "        else:\n",
    "            stack_op.push(element)\n",
    "    elif op == '*':\n",
    "        stack_num.push(num1 * num2)\n",
    "        if not stack_op.isEmpty():\n",
    "            calc()\n",
    "        else:\n",
    "            stack_op.push(element)\n",
    "    else:\n",
    "        stack_num.push(num1 / num2)\n",
    "        if not stack_op.isEmpty():\n",
    "            calc()\n",
    "        else:\n",
    "            stack_op.push(element)\n",
    "\n",
    "\n",
    "stack_num = Stack()\n",
    "stack_op = Stack()\n",
    "formula = input().split()\n",
    "strFormula = \"\".join(formula)\n",
    "for element in formula:\n",
    "    if element.isdigit() and element != formula[-1]:\n",
    "        stack_num.push(element)\n",
    "    elif element == formula[-1]:\n",
    "        stack_num.push(element)\n",
    "        calc()\n",
    "    else:\n",
    "        if len(stack_num) >= 2:\n",
    "            if (stack_op.peekTop() == '+' or stack_op.peekTop() == '-') and (element == '*' or element == '/'):\n",
    "                stack_op.push(element)\n",
    "            else:\n",
    "                calc()\n",
    "\n",
    "        else:\n",
    "            stack_op.push(element)\n",
    "\n",
    "data = stack_num.pop()\n",
    "print(strFormula + \"=\" + str(data))\n",
    "   "
   ]
  }
 ],
 "metadata": {
  "kernelspec": {
   "display_name": "Python 3",
   "language": "python",
   "name": "python3"
  },
  "language_info": {
   "codemirror_mode": {
    "name": "ipython",
    "version": 3
   },
   "file_extension": ".py",
   "mimetype": "text/x-python",
   "name": "python",
   "nbconvert_exporter": "python",
   "pygments_lexer": "ipython3",
   "version": "3.8.1"
  }
 },
 "nbformat": 4,
 "nbformat_minor": 5
}
