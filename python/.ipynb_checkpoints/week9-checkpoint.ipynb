{
 "cells": [
  {
   "cell_type": "code",
   "execution_count": 7,
   "id": "1ae962a6",
   "metadata": {},
   "outputs": [
    {
     "name": "stdout",
     "output_type": "stream",
     "text": [
      "x값을 입력하세요 : 3\n",
      "45\n"
     ]
    }
   ],
   "source": [
    "# 실습문제 1번\n",
    "\n",
    "x = int(input(\"x값을 입력하세요 : \"))\n",
    "y = (3*x**2) + (5*x) +3\n",
    "print(y)"
   ]
  },
  {
   "cell_type": "code",
   "execution_count": 6,
   "id": "076f74db",
   "metadata": {},
   "outputs": [
    {
     "name": "stdout",
     "output_type": "stream",
     "text": [
      "반지름을 입력하세요 : 3\n",
      "원의 둘레 : 18.84 원의 넓이 : 28.260\n"
     ]
    }
   ],
   "source": [
    "r = int(input(\"반지름을 입력하세요 : \"))\n",
    "pi = 3.14\n",
    "l = 2*pi*r\n",
    "s = pi*r**2\n",
    "print(\"원의 둘레 : {0:.2f} 원의 넓이 : {1:.2f}\".format(l,s))\n"
   ]
  }
 ],
 "metadata": {
  "kernelspec": {
   "display_name": "Python 3",
   "language": "python",
   "name": "python3"
  },
  "language_info": {
   "codemirror_mode": {
    "name": "ipython",
    "version": 3
   },
   "file_extension": ".py",
   "mimetype": "text/x-python",
   "name": "python",
   "nbconvert_exporter": "python",
   "pygments_lexer": "ipython3",
   "version": "3.8.1"
  }
 },
 "nbformat": 4,
 "nbformat_minor": 5
}
