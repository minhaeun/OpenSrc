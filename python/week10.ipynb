{
 "cells": [
  {
   "cell_type": "code",
   "execution_count": 3,
   "id": "b1570b26",
   "metadata": {},
   "outputs": [
    {
     "name": "stdout",
     "output_type": "stream",
     "text": [
      "숫자열을 입력하세요 : 10 456 87 78\n",
      "최댓값은 :  456\n"
     ]
    }
   ],
   "source": [
    "#실습2\n",
    "numbers = list(map(int, input(\"숫자열을 입력하세요 : \").split()))\n",
    "print(\"최댓값은 : \" , max(numbers))\n",
    "               "
   ]
  },
  {
   "cell_type": "code",
   "execution_count": 56,
   "id": "093a9656",
   "metadata": {},
   "outputs": [
    {
     "name": "stdout",
     "output_type": "stream",
     "text": [
      "문자열을 입력하세요 : abc def\n",
      "암호화 : efg bcd \n",
      "복호화 : abc def\n"
     ]
    }
   ],
   "source": [
    "#실습3\n",
    "sentence = list(input(\"문자열을 입력하세요 : \").split())\n",
    "sentence.reverse()\n",
    "str = list()\n",
    "\n",
    "for i in range(len(sentence)):\n",
    "    for j in range(len(sentence[i])):\n",
    "        c = sentence[i][j]\n",
    "        tmp = ord(c) + 1\n",
    "        str.append(chr(tmp))\n",
    "    str.append(\" \")\n",
    "print(\"암호화 : \"+ ''.join(str))\n",
    "\n",
    "sentence.clear()\n",
    "for i in range(len(str)):\n",
    "    if(str[i] != \" \"):\n",
    "        c = str[i]\n",
    "        tmp = ord(c) - 1\n",
    "        sentence.append(chr(tmp))\n",
    "    else:\n",
    "        sentence += str[i]\n",
    "        \n",
    "sentence2 = ''.join(sentence)\n",
    "sentence3 = list(sentence2.split())\n",
    "sentence3.reverse()\n",
    "\n",
    "print(\"복호화 : \" + ' '.join(sentence3))\n",
    "    \n",
    "        \n",
    "\n",
    "    \n",
    "    \n",
    "    "
   ]
  },
  {
   "cell_type": "code",
   "execution_count": 2,
   "id": "292f4f49",
   "metadata": {},
   "outputs": [
    {
     "name": "stdout",
     "output_type": "stream",
     "text": [
      "10명의 이름과 전화번호를 입력해주세요.\n",
      "이름을 입력하세요 : a\n",
      "전화번호를 입력하세요 : 1\n",
      "이름을 입력하세요 : b\n",
      "전화번호를 입력하세요 : 2\n",
      "이름을 입력하세요 : c\n",
      "전화번호를 입력하세요 : 3\n",
      "이름을 입력하세요 : d\n",
      "전화번호를 입력하세요 : 4\n",
      "이름을 입력하세요 : e\n",
      "전화번호를 입력하세요 : 5\n",
      "이름을 입력하세요 : f\n",
      "전화번호를 입력하세요 : 6\n",
      "이름을 입력하세요 : g\n",
      "전화번호를 입력하세요 : 7\n",
      "이름을 입력하세요 : h\n",
      "전화번호를 입력하세요 : 8\n",
      "이름을 입력하세요 : i\n",
      "전화번호를 입력하세요 : 9\n",
      "이름을 입력하세요 : j\n",
      "전화번호를 입력하세요 : 10\n",
      "1.이름으로 검색 2.전화번호로 검색 3.종료 : 1\n",
      "검색할 이름을 입력하세요 : a\n",
      "전화번호는 1 입니다.\n",
      "1.이름으로 검색 2.전화번호로 검색 3.종료 : 2\n",
      "검색할 전화번호를 입력하세요 : 6\n",
      "f 의 전화번호 입니다.\n",
      "1.이름으로 검색 2.전화번호로 검색 3.종료 : 3\n",
      "검색이 종료되었습니다.\n"
     ]
    }
   ],
   "source": [
    "#실습4\n",
    "phoneBook = {}\n",
    "print(\"10명의 이름과 전화번호를 입력해주세요.\")\n",
    "for i in range(0, 10) :\n",
    "    name = input(\"이름을 입력하세요 : \")\n",
    "    telNum = input(\"전화번호를 입력하세요 : \")\n",
    "    phoneBook[name] = telNum\n",
    "\n",
    "while(1):\n",
    "    option = int(input(\"1.이름으로 검색 2.전화번호로 검색 3.종료 : \"))\n",
    "    if option == 1:\n",
    "        name2 = input(\"검색할 이름을 입력하세요 : \")\n",
    "        print(\"전화번호는 \" + phoneBook.get(name2) +\" 입니다.\")\n",
    "    \n",
    "    elif option == 2:\n",
    "        telNum = input(\"검색할 전화번호를 입력하세요 : \")\n",
    "        for key, value in phoneBook.items():\n",
    "            if telNum == value:\n",
    "                print(key,\"의 전화번호 입니다.\")\n",
    "    else :\n",
    "        print(\"검색이 종료되었습니다.\")\n",
    "        break;"
   ]
  },
  {
   "cell_type": "code",
   "execution_count": null,
   "id": "18f6e298",
   "metadata": {},
   "outputs": [],
   "source": []
  }
 ],
 "metadata": {
  "kernelspec": {
   "display_name": "Python 3",
   "language": "python",
   "name": "python3"
  },
  "language_info": {
   "codemirror_mode": {
    "name": "ipython",
    "version": 3
   },
   "file_extension": ".py",
   "mimetype": "text/x-python",
   "name": "python",
   "nbconvert_exporter": "python",
   "pygments_lexer": "ipython3",
   "version": "3.8.1"
  }
 },
 "nbformat": 4,
 "nbformat_minor": 5
}
